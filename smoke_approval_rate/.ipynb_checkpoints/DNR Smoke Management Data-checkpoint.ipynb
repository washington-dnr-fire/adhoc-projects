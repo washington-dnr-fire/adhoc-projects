{
 "cells": [
  {
   "cell_type": "markdown",
   "metadata": {},
   "source": [
    "## DNR Smoke Management Burn Approval Rate and Data Clean Up\n",
    "\n",
    "### Only applies to data from 2014 - 2019 from the burn portal \n",
    "\n",
    "Another useful performance metric within the wildfire program is the % of silvicultural burns we approve. We work to balance healthy air quality for the public while also maximizing burns which reduce the risk of hazardous wildfires. "
   ]
  },
  {
   "cell_type": "markdown",
   "metadata": {},
   "source": [
    "Import helpful libraries"
   ]
  },
  {
   "cell_type": "code",
   "execution_count": 1,
   "metadata": {},
   "outputs": [],
   "source": [
    "import numpy as np\n",
    "import pandas as pd\n",
    "from glob import glob\n",
    "import matplotlib.pyplot as plt"
   ]
  },
  {
   "cell_type": "markdown",
   "metadata": {},
   "source": [
    "Merge all of the .csvs into one"
   ]
  },
  {
   "cell_type": "code",
   "execution_count": 2,
   "metadata": {},
   "outputs": [
    {
     "data": {
      "text/html": [
       "<div>\n",
       "<style scoped>\n",
       "    .dataframe tbody tr th:only-of-type {\n",
       "        vertical-align: middle;\n",
       "    }\n",
       "\n",
       "    .dataframe tbody tr th {\n",
       "        vertical-align: top;\n",
       "    }\n",
       "\n",
       "    .dataframe thead th {\n",
       "        text-align: right;\n",
       "    }\n",
       "</style>\n",
       "<table border=\"1\" class=\"dataframe\">\n",
       "  <thead>\n",
       "    <tr style=\"text-align: right;\">\n",
       "      <th></th>\n",
       "      <th>Agent</th>\n",
       "      <th>Application ID</th>\n",
       "      <th>Burn Priority</th>\n",
       "      <th>Burn Request ID</th>\n",
       "      <th>Est. Permit Tonnage</th>\n",
       "      <th>Forest Health Exempt</th>\n",
       "      <th>Harvest Acres</th>\n",
       "      <th>Ignition Date</th>\n",
       "      <th>Ignition Period</th>\n",
       "      <th>In UGA</th>\n",
       "      <th>...</th>\n",
       "      <th>Lat, Long</th>\n",
       "      <th>Multi Day Burn</th>\n",
       "      <th>Permit Number</th>\n",
       "      <th>Post-Burn</th>\n",
       "      <th>Proposed Burn Area</th>\n",
       "      <th>Request Date</th>\n",
       "      <th>Smoke Dispersed</th>\n",
       "      <th>Status</th>\n",
       "      <th>Total Proposed Burn</th>\n",
       "      <th>Unit Name</th>\n",
       "    </tr>\n",
       "  </thead>\n",
       "  <tbody>\n",
       "    <tr>\n",
       "      <th>0</th>\n",
       "      <td>Ryley Gray</td>\n",
       "      <td>10100</td>\n",
       "      <td>2.0</td>\n",
       "      <td>13461</td>\n",
       "      <td>173 tons</td>\n",
       "      <td>NaN</td>\n",
       "      <td>116 acres</td>\n",
       "      <td>Dec 31, 2019 08:00:00</td>\n",
       "      <td>60 mins</td>\n",
       "      <td>NaN</td>\n",
       "      <td>...</td>\n",
       "      <td>46.22662, -122.4697</td>\n",
       "      <td>NaN</td>\n",
       "      <td>PC20199349</td>\n",
       "      <td>NaN</td>\n",
       "      <td>116 acres</td>\n",
       "      <td>Dec 30, 2019</td>\n",
       "      <td>NaN</td>\n",
       "      <td>ApprovedDec 31, 2019</td>\n",
       "      <td>173 tons</td>\n",
       "      <td>5381</td>\n",
       "    </tr>\n",
       "    <tr>\n",
       "      <th>1</th>\n",
       "      <td>Ryley Gray</td>\n",
       "      <td>10099</td>\n",
       "      <td>1.0</td>\n",
       "      <td>13462</td>\n",
       "      <td>179 tons</td>\n",
       "      <td>NaN</td>\n",
       "      <td>64 acres</td>\n",
       "      <td>Dec 31, 2019 08:00:00</td>\n",
       "      <td>120 mins</td>\n",
       "      <td>NaN</td>\n",
       "      <td>...</td>\n",
       "      <td>46.20789, -122.4777</td>\n",
       "      <td>NaN</td>\n",
       "      <td>PC20199350</td>\n",
       "      <td>NaN</td>\n",
       "      <td>64 acres</td>\n",
       "      <td>Dec 30, 2019</td>\n",
       "      <td>NaN</td>\n",
       "      <td>ApprovedDec 31, 2019</td>\n",
       "      <td>179 tons</td>\n",
       "      <td>6365D</td>\n",
       "    </tr>\n",
       "  </tbody>\n",
       "</table>\n",
       "<p>2 rows × 21 columns</p>\n",
       "</div>"
      ],
      "text/plain": [
       "        Agent  Application ID  Burn Priority  Burn Request ID  \\\n",
       "0  Ryley Gray           10100            2.0            13461   \n",
       "1  Ryley Gray           10099            1.0            13462   \n",
       "\n",
       "  Est. Permit Tonnage  Forest Health Exempt Harvest Acres  \\\n",
       "0            173 tons                   NaN     116 acres   \n",
       "1            179 tons                   NaN      64 acres   \n",
       "\n",
       "           Ignition Date Ignition Period  In UGA  ...            Lat, Long  \\\n",
       "0  Dec 31, 2019 08:00:00         60 mins     NaN  ...  46.22662, -122.4697   \n",
       "1  Dec 31, 2019 08:00:00        120 mins     NaN  ...  46.20789, -122.4777   \n",
       "\n",
       "  Multi Day Burn  Permit Number Post-Burn  Proposed Burn Area  Request Date  \\\n",
       "0            NaN     PC20199349       NaN           116 acres  Dec 30, 2019   \n",
       "1            NaN     PC20199350       NaN            64 acres  Dec 30, 2019   \n",
       "\n",
       "  Smoke Dispersed                Status Total Proposed Burn Unit Name  \n",
       "0             NaN  ApprovedDec 31, 2019            173 tons      5381  \n",
       "1             NaN  ApprovedDec 31, 2019            179 tons     6365D  \n",
       "\n",
       "[2 rows x 21 columns]"
      ]
     },
     "execution_count": 2,
     "metadata": {},
     "output_type": "execute_result"
    }
   ],
   "source": [
    "df = pd.concat(map(pd.read_csv, glob('*.csv')), sort=True)\n",
    "df.head(2)"
   ]
  },
  {
   "cell_type": "markdown",
   "metadata": {},
   "source": [
    "It is immediately clear this data is in bad shape. We need to drop all of extra info in numeric columns and split lat/lon."
   ]
  },
  {
   "cell_type": "code",
   "execution_count": 3,
   "metadata": {},
   "outputs": [
    {
     "data": {
      "text/html": [
       "<div>\n",
       "<style scoped>\n",
       "    .dataframe tbody tr th:only-of-type {\n",
       "        vertical-align: middle;\n",
       "    }\n",
       "\n",
       "    .dataframe tbody tr th {\n",
       "        vertical-align: top;\n",
       "    }\n",
       "\n",
       "    .dataframe thead th {\n",
       "        text-align: right;\n",
       "    }\n",
       "</style>\n",
       "<table border=\"1\" class=\"dataframe\">\n",
       "  <thead>\n",
       "    <tr style=\"text-align: right;\">\n",
       "      <th></th>\n",
       "      <th>Agent</th>\n",
       "      <th>Application ID</th>\n",
       "      <th>Burn Priority</th>\n",
       "      <th>Burn Request ID</th>\n",
       "      <th>Est. Permit Tonnage</th>\n",
       "      <th>Forest Health Exempt</th>\n",
       "      <th>Harvest Acres</th>\n",
       "      <th>Ignition Date</th>\n",
       "      <th>Ignition Period</th>\n",
       "      <th>In UGA</th>\n",
       "      <th>...</th>\n",
       "      <th>Permit Number</th>\n",
       "      <th>Post-Burn</th>\n",
       "      <th>Proposed Burn Area</th>\n",
       "      <th>Request Date</th>\n",
       "      <th>Smoke Dispersed</th>\n",
       "      <th>Status</th>\n",
       "      <th>Total Proposed Burn</th>\n",
       "      <th>Unit Name</th>\n",
       "      <th>Lat</th>\n",
       "      <th>Lon</th>\n",
       "    </tr>\n",
       "  </thead>\n",
       "  <tbody>\n",
       "    <tr>\n",
       "      <th>0</th>\n",
       "      <td>Ryley Gray</td>\n",
       "      <td>10100</td>\n",
       "      <td>2</td>\n",
       "      <td>13461</td>\n",
       "      <td>173</td>\n",
       "      <td>None</td>\n",
       "      <td>116</td>\n",
       "      <td>Dec 31, 2019 08:00:00</td>\n",
       "      <td>60</td>\n",
       "      <td>None</td>\n",
       "      <td>...</td>\n",
       "      <td>PC20199349</td>\n",
       "      <td>None</td>\n",
       "      <td>116</td>\n",
       "      <td>Dec 30, 2019</td>\n",
       "      <td>None</td>\n",
       "      <td>ApprovedDec 31, 2019</td>\n",
       "      <td>173</td>\n",
       "      <td>5381</td>\n",
       "      <td>46.22662</td>\n",
       "      <td>-122.4697</td>\n",
       "    </tr>\n",
       "    <tr>\n",
       "      <th>1</th>\n",
       "      <td>Ryley Gray</td>\n",
       "      <td>10099</td>\n",
       "      <td>1</td>\n",
       "      <td>13462</td>\n",
       "      <td>179</td>\n",
       "      <td>None</td>\n",
       "      <td>64</td>\n",
       "      <td>Dec 31, 2019 08:00:00</td>\n",
       "      <td>120</td>\n",
       "      <td>None</td>\n",
       "      <td>...</td>\n",
       "      <td>PC20199350</td>\n",
       "      <td>None</td>\n",
       "      <td>64</td>\n",
       "      <td>Dec 30, 2019</td>\n",
       "      <td>None</td>\n",
       "      <td>ApprovedDec 31, 2019</td>\n",
       "      <td>179</td>\n",
       "      <td>6365D</td>\n",
       "      <td>46.20789</td>\n",
       "      <td>-122.4777</td>\n",
       "    </tr>\n",
       "  </tbody>\n",
       "</table>\n",
       "<p>2 rows × 22 columns</p>\n",
       "</div>"
      ],
      "text/plain": [
       "        Agent  Application ID Burn Priority  Burn Request ID  \\\n",
       "0  Ryley Gray           10100             2            13461   \n",
       "1  Ryley Gray           10099             1            13462   \n",
       "\n",
       "  Est. Permit Tonnage Forest Health Exempt Harvest Acres  \\\n",
       "0                 173                 None           116   \n",
       "1                 179                 None            64   \n",
       "\n",
       "           Ignition Date Ignition Period In UGA  ... Permit Number Post-Burn  \\\n",
       "0  Dec 31, 2019 08:00:00              60   None  ...    PC20199349      None   \n",
       "1  Dec 31, 2019 08:00:00             120   None  ...    PC20199350      None   \n",
       "\n",
       "  Proposed Burn Area  Request Date Smoke Dispersed                Status  \\\n",
       "0                116  Dec 30, 2019            None  ApprovedDec 31, 2019   \n",
       "1                 64  Dec 30, 2019            None  ApprovedDec 31, 2019   \n",
       "\n",
       "  Total Proposed Burn Unit Name       Lat         Lon  \n",
       "0                 173      5381  46.22662   -122.4697  \n",
       "1                 179     6365D  46.20789   -122.4777  \n",
       "\n",
       "[2 rows x 22 columns]"
      ]
     },
     "execution_count": 3,
     "metadata": {},
     "output_type": "execute_result"
    }
   ],
   "source": [
    "def string_purger(x):\n",
    "    if pd.isna(x) == False:  # there are weird 'nan' floats apparently...\n",
    "        y = x.split(' ')[0]\n",
    "        return float(y.replace(',', ''))\n",
    "\n",
    "def lat(x):\n",
    "    if pd.isna(x) == False:\n",
    "        return x.split(',')[0]\n",
    "    \n",
    "def lon(x):\n",
    "    if pd.isna(x) == False:\n",
    "        return x.split(',')[1]\n",
    "       \n",
    "df['Ignition Period'] = df['Ignition Period'].apply(string_purger)\n",
    "df['Est. Permit Tonnage'] = df['Est. Permit Tonnage'].apply(string_purger)\n",
    "df['Total Proposed Burn'] = df['Total Proposed Burn'].apply(string_purger)\n",
    "df['Harvest Acres'] = df['Harvest Acres'].apply(string_purger)\n",
    "df['Proposed Burn Area'] = df['Proposed Burn Area'].apply(string_purger)\n",
    "df['Lat'] = df['Lat, Long'].apply(lat)\n",
    "df['Lon'] = df['Lat, Long'].apply(lon)\n",
    "\n",
    "# Drop the old lat/lon column and purge NaNs to None\n",
    "df = df.drop(columns = ['Lat, Long'])\n",
    "df = df.replace({np.nan: None})\n",
    "df.head(2)"
   ]
  },
  {
   "cell_type": "markdown",
   "metadata": {},
   "source": [
    "There are three columns (Request Date, Status, Ignition Date) with some type of date in them, need to fix these as well."
   ]
  },
  {
   "cell_type": "code",
   "execution_count": 4,
   "metadata": {},
   "outputs": [],
   "source": [
    "df['Ignition Date'] = pd.to_datetime(df['Ignition Date'])\n",
    "df['Request Date'] = pd.to_datetime(df['Request Date'])\n",
    "df['Request Year'] = df['Request Date'].dt.year\n",
    "df['Request Month'] = df['Request Date'].dt.month\n",
    "\n",
    "# Status is silly, why would the system concatenate the date and approval status? \n",
    "# Am going to make two columns for this \n",
    "\n",
    "def approval_state(x):\n",
    "    if x != None:\n",
    "        return x.split('ed')[0] + 'ed'\n",
    "    else: \n",
    "        return None\n",
    "    \n",
    "def approval_date(x):\n",
    "    if x != None:\n",
    "        return x.split('ed')[1]\n",
    "    else:\n",
    "        return None\n",
    "    \n",
    "df['Burn Decision'] = df['Status'].apply(approval_state)\n",
    "df['Decision Date'] = df['Status'].apply(approval_date)\n",
    "df['Decision Date'] = pd.to_datetime(df['Decision Date'])\n",
    "df = df.drop(columns = ['Status'])"
   ]
  },
  {
   "cell_type": "markdown",
   "metadata": {},
   "source": [
    "One more useful thing might be to get the region the smoke data is for. It looks like anything with `40` is a federal burn and all of the regions have a two character prefix (i.e. `PC`, `NE`)"
   ]
  },
  {
   "cell_type": "code",
   "execution_count": 5,
   "metadata": {},
   "outputs": [],
   "source": [
    "def region_getter(x):\n",
    "    y = x[:2]\n",
    "    # Federal, Fish & Wildlife, and JBLM\n",
    "    if y in ['40', 'FW', 'JB']:\n",
    "        return 'FED'\n",
    "    # Northeast bad entry\n",
    "    elif y in ['NO', '20']:\n",
    "        return 'NE'\n",
    "    # Southeast bad entry\n",
    "    elif y in ['SO', 'WA']:\n",
    "        return 'SE'\n",
    "    else:\n",
    "        return y\n",
    "    \n",
    "df['Region'] = df['Permit Number'].apply(region_getter)"
   ]
  },
  {
   "cell_type": "markdown",
   "metadata": {},
   "source": [
    "Plot the frequency of burn permits by region/fed"
   ]
  },
  {
   "cell_type": "code",
   "execution_count": 6,
   "metadata": {},
   "outputs": [
    {
     "data": {
      "text/plain": [
       "Region\n",
       "FED    AxesSubplot(0.125,0.125;0.775x0.755)\n",
       "NE     AxesSubplot(0.125,0.125;0.775x0.755)\n",
       "NW     AxesSubplot(0.125,0.125;0.775x0.755)\n",
       "OL     AxesSubplot(0.125,0.125;0.775x0.755)\n",
       "PC     AxesSubplot(0.125,0.125;0.775x0.755)\n",
       "SE     AxesSubplot(0.125,0.125;0.775x0.755)\n",
       "SP     AxesSubplot(0.125,0.125;0.775x0.755)\n",
       "Name: Region, dtype: object"
      ]
     },
     "execution_count": 6,
     "metadata": {},
     "output_type": "execute_result"
    },
    {
     "data": {
      "image/png": "[encoded data removed]",
      "text/plain": [
       "<Figure size 432x288 with 1 Axes>"
      ]
     },
     "metadata": {
      "needs_background": "light"
     },
     "output_type": "display_data"
    }
   ],
   "source": [
    "df.groupby(['Region'])['Region'].hist()"
   ]
  },
  {
   "cell_type": "markdown",
   "metadata": {},
   "source": [
    "Plot frequency of burn requests by year and then by month\n"
   ]
  },
  {
   "cell_type": "code",
   "execution_count": 7,
   "metadata": {},
   "outputs": [
    {
     "data": {
      "text/plain": [
       "Request Year\n",
       "2014    AxesSubplot(0.125,0.125;0.775x0.755)\n",
       "2015    AxesSubplot(0.125,0.125;0.775x0.755)\n",
       "2016    AxesSubplot(0.125,0.125;0.775x0.755)\n",
       "2017    AxesSubplot(0.125,0.125;0.775x0.755)\n",
       "2018    AxesSubplot(0.125,0.125;0.775x0.755)\n",
       "2019    AxesSubplot(0.125,0.125;0.775x0.755)\n",
       "2020    AxesSubplot(0.125,0.125;0.775x0.755)\n",
       "Name: Request Year, dtype: object"
      ]
     },
     "execution_count": 7,
     "metadata": {},
     "output_type": "execute_result"
    },
    {
     "data": {
      "image/png": "[encoded data removed]",
      "text/plain": [
       "<Figure size 432x288 with 1 Axes>"
      ]
     },
     "metadata": {
      "needs_background": "light"
     },
     "output_type": "display_data"
    }
   ],
   "source": [
    "df.groupby(['Request Year'])['Request Year'].hist()"
   ]
  },
  {
   "cell_type": "code",
   "execution_count": 8,
   "metadata": {},
   "outputs": [
    {
     "data": {
      "text/plain": [
       "Request Month\n",
       "1     AxesSubplot(0.125,0.125;0.775x0.755)\n",
       "2     AxesSubplot(0.125,0.125;0.775x0.755)\n",
       "3     AxesSubplot(0.125,0.125;0.775x0.755)\n",
       "4     AxesSubplot(0.125,0.125;0.775x0.755)\n",
       "5     AxesSubplot(0.125,0.125;0.775x0.755)\n",
       "6     AxesSubplot(0.125,0.125;0.775x0.755)\n",
       "7     AxesSubplot(0.125,0.125;0.775x0.755)\n",
       "8     AxesSubplot(0.125,0.125;0.775x0.755)\n",
       "9     AxesSubplot(0.125,0.125;0.775x0.755)\n",
       "10    AxesSubplot(0.125,0.125;0.775x0.755)\n",
       "11    AxesSubplot(0.125,0.125;0.775x0.755)\n",
       "12    AxesSubplot(0.125,0.125;0.775x0.755)\n",
       "Name: Request Month, dtype: object"
      ]
     },
     "execution_count": 8,
     "metadata": {},
     "output_type": "execute_result"
    },
    {
     "data": {
      "image/png": "[encoded data removed]",
      "text/plain": [
       "<Figure size 432x288 with 1 Axes>"
      ]
     },
     "metadata": {
      "needs_background": "light"
     },
     "output_type": "display_data"
    }
   ],
   "source": [
    "df.groupby(['Request Month'])['Request Month'].hist()"
   ]
  },
  {
   "cell_type": "markdown",
   "metadata": {},
   "source": [
    "What is the approval rate?"
   ]
  },
  {
   "cell_type": "code",
   "execution_count": 9,
   "metadata": {},
   "outputs": [
    {
     "data": {
      "text/plain": [
       "Burn Decision\n",
       "Approved               AxesSubplot(0.125,0.125;0.775x0.755)\n",
       "Denied                 AxesSubplot(0.125,0.125;0.775x0.755)\n",
       "[Division] Approved    AxesSubplot(0.125,0.125;0.775x0.755)\n",
       "Name: Burn Decision, dtype: object"
      ]
     },
     "execution_count": 9,
     "metadata": {},
     "output_type": "execute_result"
    },
    {
     "data": {
      "image/png": "[encoded data removed]",
      "text/plain": [
       "<Figure size 432x288 with 1 Axes>"
      ]
     },
     "metadata": {
      "needs_background": "light"
     },
     "output_type": "display_data"
    }
   ],
   "source": [
    "df.groupby(['Burn Decision'])['Burn Decision'].hist()"
   ]
  },
  {
   "cell_type": "code",
   "execution_count": 10,
   "metadata": {},
   "outputs": [
    {
     "data": {
      "text/plain": [
       "'The burn approval rate is 0.78'"
      ]
     },
     "execution_count": 10,
     "metadata": {},
     "output_type": "execute_result"
    }
   ],
   "source": [
    "total = len(df['Burn Decision'])\n",
    "approvals = len(df[(df['Burn Decision'] =='Approved') | (df['Burn Decision'] == '[Division] Approved')])\n",
    "\n",
    "approval_rate = approvals/total\n",
    "\"The burn approval rate is {}\".format(round(approval_rate, 2))"
   ]
  },
  {
   "cell_type": "markdown",
   "metadata": {},
   "source": [
    "Export to csv"
   ]
  },
  {
   "cell_type": "code",
   "execution_count": 11,
   "metadata": {},
   "outputs": [],
   "source": [
    "df.to_csv('smokedata_2014_2019_clean.csv')"
   ]
  },
  {
   "cell_type": "markdown",
   "metadata": {},
   "source": [
    "What is the average request tonnage for those approved? "
   ]
  },
  {
   "cell_type": "code",
   "execution_count": 12,
   "metadata": {},
   "outputs": [
    {
     "data": {
      "text/plain": [
       "139.1609033168666"
      ]
     },
     "execution_count": 12,
     "metadata": {},
     "output_type": "execute_result"
    }
   ],
   "source": [
    "approvals = df[(df['Burn Decision'] =='Approved') | (df['Burn Decision'] == '[Division] Approved')]\n",
    "approvals['Total Proposed Burn'].mean()"
   ]
  },
  {
   "cell_type": "markdown",
   "metadata": {},
   "source": [
    "What is the average burn period? "
   ]
  },
  {
   "cell_type": "code",
   "execution_count": 13,
   "metadata": {},
   "outputs": [
    {
     "data": {
      "text/plain": [
       "86.7356279751007"
      ]
     },
     "execution_count": 13,
     "metadata": {},
     "output_type": "execute_result"
    }
   ],
   "source": [
    "df['Ignition Period'].mean()"
   ]
  },
  {
   "cell_type": "code",
   "execution_count": null,
   "metadata": {},
   "outputs": [],
   "source": []
  }
 ],
 "metadata": {
  "kernelspec": {
   "display_name": "Python 3.7.5 64-bit",
   "language": "python",
   "name": "python37564bitfede22a82517426f9d362e08cd382ee8"
  },
  "language_info": {
   "codemirror_mode": {
    "name": "ipython",
    "version": 3
   },
   "file_extension": ".py",
   "mimetype": "text/x-python",
   "name": "python",
   "nbconvert_exporter": "python",
   "pygments_lexer": "ipython3",
   "version": "3.7.5"
  }
 },
 "nbformat": 4,
 "nbformat_minor": 2
}
