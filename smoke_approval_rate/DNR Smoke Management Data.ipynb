{
 "cells": [
  {
   "cell_type": "markdown",
   "metadata": {},
   "source": [
    "## DNR Smoke Management Burn Approval Rate and Data Clean Up\n",
    "\n",
    "### Only applies to data from 2014 - 2019 from the burn portal \n",
    "\n",
    "Another useful performance metric within the wildfire program is the % of silvicultural burns we approve. We work to balance healthy air quality for the public while also maximizing burns which reduce the risk of hazardous wildfires. "
   ]
  },
  {
   "cell_type": "markdown",
   "metadata": {},
   "source": [
    "Import helpful libraries"
   ]
  },
  {
   "cell_type": "code",
   "execution_count": 1,
   "metadata": {},
   "outputs": [],
   "source": [
    "import numpy as np\n",
    "import pandas as pd\n",
    "from glob import glob\n",
    "import matplotlib.pyplot as plt"
   ]
  },
  {
   "cell_type": "markdown",
   "metadata": {},
   "source": [
    "Merge all of the .csvs into one"
   ]
  },
  {
   "cell_type": "code",
   "execution_count": 2,
   "metadata": {},
   "outputs": [
    {
     "data": {
      "text/html": [
       "<div>\n",
       "<style scoped>\n",
       "    .dataframe tbody tr th:only-of-type {\n",
       "        vertical-align: middle;\n",
       "    }\n",
       "\n",
       "    .dataframe tbody tr th {\n",
       "        vertical-align: top;\n",
       "    }\n",
       "\n",
       "    .dataframe thead th {\n",
       "        text-align: right;\n",
       "    }\n",
       "</style>\n",
       "<table border=\"1\" class=\"dataframe\">\n",
       "  <thead>\n",
       "    <tr style=\"text-align: right;\">\n",
       "      <th></th>\n",
       "      <th>Agent</th>\n",
       "      <th>Application ID</th>\n",
       "      <th>Burn Decision</th>\n",
       "      <th>Burn Priority</th>\n",
       "      <th>Burn Request ID</th>\n",
       "      <th>Decision Date</th>\n",
       "      <th>Est. Permit Tonnage</th>\n",
       "      <th>Forest Health Exempt</th>\n",
       "      <th>Harvest Acres</th>\n",
       "      <th>Ignition Date</th>\n",
       "      <th>...</th>\n",
       "      <th>Request Year</th>\n",
       "      <th>Smoke Dispersed</th>\n",
       "      <th>Status</th>\n",
       "      <th>Total Proposed Burn</th>\n",
       "      <th>Unit Name</th>\n",
       "      <th>Unnamed: 0</th>\n",
       "      <th>Unnamed: 0.1</th>\n",
       "      <th>Unnamed: 0.1.1</th>\n",
       "      <th>Unnamed: 0.1.1.1</th>\n",
       "      <th>Unnamed: 0.1.1.1.1</th>\n",
       "    </tr>\n",
       "  </thead>\n",
       "  <tbody>\n",
       "    <tr>\n",
       "      <th>0</th>\n",
       "      <td>Ryley Gray</td>\n",
       "      <td>10100</td>\n",
       "      <td>NaN</td>\n",
       "      <td>2.0</td>\n",
       "      <td>13461</td>\n",
       "      <td>NaN</td>\n",
       "      <td>173 tons</td>\n",
       "      <td>NaN</td>\n",
       "      <td>116 acres</td>\n",
       "      <td>Dec 31, 2019 08:00:00</td>\n",
       "      <td>...</td>\n",
       "      <td>NaN</td>\n",
       "      <td>NaN</td>\n",
       "      <td>ApprovedDec 31, 2019</td>\n",
       "      <td>173 tons</td>\n",
       "      <td>5381</td>\n",
       "      <td>NaN</td>\n",
       "      <td>NaN</td>\n",
       "      <td>NaN</td>\n",
       "      <td>NaN</td>\n",
       "      <td>NaN</td>\n",
       "    </tr>\n",
       "    <tr>\n",
       "      <th>1</th>\n",
       "      <td>Ryley Gray</td>\n",
       "      <td>10099</td>\n",
       "      <td>NaN</td>\n",
       "      <td>1.0</td>\n",
       "      <td>13462</td>\n",
       "      <td>NaN</td>\n",
       "      <td>179 tons</td>\n",
       "      <td>NaN</td>\n",
       "      <td>64 acres</td>\n",
       "      <td>Dec 31, 2019 08:00:00</td>\n",
       "      <td>...</td>\n",
       "      <td>NaN</td>\n",
       "      <td>NaN</td>\n",
       "      <td>ApprovedDec 31, 2019</td>\n",
       "      <td>179 tons</td>\n",
       "      <td>6365D</td>\n",
       "      <td>NaN</td>\n",
       "      <td>NaN</td>\n",
       "      <td>NaN</td>\n",
       "      <td>NaN</td>\n",
       "      <td>NaN</td>\n",
       "    </tr>\n",
       "  </tbody>\n",
       "</table>\n",
       "<p>2 rows × 33 columns</p>\n",
       "</div>"
      ],
      "text/plain": [
       "        Agent Application ID Burn Decision  Burn Priority Burn Request ID  \\\n",
       "0  Ryley Gray          10100           NaN            2.0           13461   \n",
       "1  Ryley Gray          10099           NaN            1.0           13462   \n",
       "\n",
       "  Decision Date Est. Permit Tonnage  Forest Health Exempt Harvest Acres  \\\n",
       "0           NaN            173 tons                   NaN     116 acres   \n",
       "1           NaN            179 tons                   NaN      64 acres   \n",
       "\n",
       "           Ignition Date        ...         Request Year  Smoke Dispersed  \\\n",
       "0  Dec 31, 2019 08:00:00        ...                  NaN              NaN   \n",
       "1  Dec 31, 2019 08:00:00        ...                  NaN              NaN   \n",
       "\n",
       "                 Status Total Proposed Burn Unit Name Unnamed: 0  \\\n",
       "0  ApprovedDec 31, 2019            173 tons      5381        NaN   \n",
       "1  ApprovedDec 31, 2019            179 tons     6365D        NaN   \n",
       "\n",
       "   Unnamed: 0.1 Unnamed: 0.1.1  Unnamed: 0.1.1.1 Unnamed: 0.1.1.1.1  \n",
       "0           NaN            NaN               NaN                NaN  \n",
       "1           NaN            NaN               NaN                NaN  \n",
       "\n",
       "[2 rows x 33 columns]"
      ]
     },
     "execution_count": 2,
     "metadata": {},
     "output_type": "execute_result"
    }
   ],
   "source": [
    "df = pd.concat(map(pd.read_csv, glob('*.csv')), sort=True)\n",
    "df.head(2)"
   ]
  },
  {
   "cell_type": "markdown",
   "metadata": {},
   "source": [
    "It is immediately clear this data is in bad shape. We need to drop all of extra info in numeric columns and split lat/lon."
   ]
  },
  {
   "cell_type": "code",
   "execution_count": 3,
   "metadata": {},
   "outputs": [
    {
     "data": {
      "text/html": [
       "<div>\n",
       "<style scoped>\n",
       "    .dataframe tbody tr th:only-of-type {\n",
       "        vertical-align: middle;\n",
       "    }\n",
       "\n",
       "    .dataframe tbody tr th {\n",
       "        vertical-align: top;\n",
       "    }\n",
       "\n",
       "    .dataframe thead th {\n",
       "        text-align: right;\n",
       "    }\n",
       "</style>\n",
       "<table border=\"1\" class=\"dataframe\">\n",
       "  <thead>\n",
       "    <tr style=\"text-align: right;\">\n",
       "      <th></th>\n",
       "      <th>Agent</th>\n",
       "      <th>Application ID</th>\n",
       "      <th>Burn Decision</th>\n",
       "      <th>Burn Priority</th>\n",
       "      <th>Burn Request ID</th>\n",
       "      <th>Decision Date</th>\n",
       "      <th>Est. Permit Tonnage</th>\n",
       "      <th>Forest Health Exempt</th>\n",
       "      <th>Harvest Acres</th>\n",
       "      <th>Ignition Date</th>\n",
       "      <th>...</th>\n",
       "      <th>Request Year</th>\n",
       "      <th>Smoke Dispersed</th>\n",
       "      <th>Status</th>\n",
       "      <th>Total Proposed Burn</th>\n",
       "      <th>Unit Name</th>\n",
       "      <th>Unnamed: 0</th>\n",
       "      <th>Unnamed: 0.1</th>\n",
       "      <th>Unnamed: 0.1.1</th>\n",
       "      <th>Unnamed: 0.1.1.1</th>\n",
       "      <th>Unnamed: 0.1.1.1.1</th>\n",
       "    </tr>\n",
       "  </thead>\n",
       "  <tbody>\n",
       "    <tr>\n",
       "      <th>0</th>\n",
       "      <td>Ryley Gray</td>\n",
       "      <td>10100</td>\n",
       "      <td>None</td>\n",
       "      <td>2</td>\n",
       "      <td>13461</td>\n",
       "      <td>None</td>\n",
       "      <td>173</td>\n",
       "      <td>None</td>\n",
       "      <td>116</td>\n",
       "      <td>Dec 31, 2019 08:00:00</td>\n",
       "      <td>...</td>\n",
       "      <td>None</td>\n",
       "      <td>None</td>\n",
       "      <td>ApprovedDec 31, 2019</td>\n",
       "      <td>173</td>\n",
       "      <td>5381</td>\n",
       "      <td>None</td>\n",
       "      <td>None</td>\n",
       "      <td>None</td>\n",
       "      <td>None</td>\n",
       "      <td>None</td>\n",
       "    </tr>\n",
       "    <tr>\n",
       "      <th>1</th>\n",
       "      <td>Ryley Gray</td>\n",
       "      <td>10099</td>\n",
       "      <td>None</td>\n",
       "      <td>1</td>\n",
       "      <td>13462</td>\n",
       "      <td>None</td>\n",
       "      <td>179</td>\n",
       "      <td>None</td>\n",
       "      <td>64</td>\n",
       "      <td>Dec 31, 2019 08:00:00</td>\n",
       "      <td>...</td>\n",
       "      <td>None</td>\n",
       "      <td>None</td>\n",
       "      <td>ApprovedDec 31, 2019</td>\n",
       "      <td>179</td>\n",
       "      <td>6365D</td>\n",
       "      <td>None</td>\n",
       "      <td>None</td>\n",
       "      <td>None</td>\n",
       "      <td>None</td>\n",
       "      <td>None</td>\n",
       "    </tr>\n",
       "  </tbody>\n",
       "</table>\n",
       "<p>2 rows × 32 columns</p>\n",
       "</div>"
      ],
      "text/plain": [
       "        Agent  Application ID Burn Decision Burn Priority  Burn Request ID  \\\n",
       "0  Ryley Gray           10100          None             2            13461   \n",
       "1  Ryley Gray           10099          None             1            13462   \n",
       "\n",
       "  Decision Date Est. Permit Tonnage Forest Health Exempt Harvest Acres  \\\n",
       "0          None                 173                 None           116   \n",
       "1          None                 179                 None            64   \n",
       "\n",
       "           Ignition Date        ...         Request Year Smoke Dispersed  \\\n",
       "0  Dec 31, 2019 08:00:00        ...                 None            None   \n",
       "1  Dec 31, 2019 08:00:00        ...                 None            None   \n",
       "\n",
       "                 Status Total Proposed Burn Unit Name Unnamed: 0 Unnamed: 0.1  \\\n",
       "0  ApprovedDec 31, 2019                 173      5381       None         None   \n",
       "1  ApprovedDec 31, 2019                 179     6365D       None         None   \n",
       "\n",
       "  Unnamed: 0.1.1 Unnamed: 0.1.1.1 Unnamed: 0.1.1.1.1  \n",
       "0           None             None               None  \n",
       "1           None             None               None  \n",
       "\n",
       "[2 rows x 32 columns]"
      ]
     },
     "execution_count": 3,
     "metadata": {},
     "output_type": "execute_result"
    }
   ],
   "source": [
    "def string_purger(x):\n",
    "    if pd.isna(x) == False:  # there are weird 'nan' floats apparently...\n",
    "        y = str(x).split(' ')[0]\n",
    "        return float(y.replace(',', ''))\n",
    "\n",
    "def lat(x):\n",
    "    if pd.isna(x) == False:\n",
    "        return x.split(',')[0]\n",
    "    \n",
    "def lon(x):\n",
    "    if pd.isna(x) == False:\n",
    "        return x.split(',')[1]\n",
    "       \n",
    "df['Ignition Period'] = df['Ignition Period'].apply(string_purger)\n",
    "df['Est. Permit Tonnage'] = df['Est. Permit Tonnage'].apply(string_purger)\n",
    "df['Total Proposed Burn'] = df['Total Proposed Burn'].apply(string_purger)\n",
    "df['Harvest Acres'] = df['Harvest Acres'].apply(string_purger)\n",
    "df['Proposed Burn Area'] = df['Proposed Burn Area'].apply(string_purger)\n",
    "df['Lat'] = df['Lat, Long'].apply(lat)\n",
    "df['Lon'] = df['Lat, Long'].apply(lon)\n",
    "\n",
    "# Drop the old lat/lon column and purge NaNs to None\n",
    "df = df.drop(columns = ['Lat, Long'])\n",
    "df = df.replace({np.nan: None})\n",
    "df.head(2)"
   ]
  },
  {
   "cell_type": "markdown",
   "metadata": {},
   "source": [
    "There are three columns (Request Date, Status, Ignition Date) with some type of date in them, need to fix these as well."
   ]
  },
  {
   "cell_type": "code",
   "execution_count": 4,
   "metadata": {},
   "outputs": [],
   "source": [
    "df['Ignition Date'] = pd.to_datetime(df['Ignition Date'])\n",
    "df['Request Date'] = pd.to_datetime(df['Request Date'])\n",
    "df['Request Year'] = df['Request Date'].dt.year\n",
    "df['Request Month'] = df['Request Date'].dt.month\n",
    "\n",
    "# Status is silly, why would the system concatenate the date and approval status? \n",
    "# Am going to make two columns for this \n",
    "\n",
    "def approval_state(x):\n",
    "    if x != None:\n",
    "        return x.split('ed')[0] + 'ed'\n",
    "    else: \n",
    "        return None\n",
    "    \n",
    "def approval_date(x):\n",
    "    if x != None:\n",
    "        return x.split('ed')[1]\n",
    "    else:\n",
    "        return None\n",
    "    \n",
    "df['Burn Decision'] = df['Status'].apply(approval_state)\n",
    "df['Decision Date'] = df['Status'].apply(approval_date)\n",
    "df['Decision Date'] = pd.to_datetime(df['Decision Date'])\n",
    "df = df.drop(columns = ['Status'])"
   ]
  },
  {
   "cell_type": "markdown",
   "metadata": {},
   "source": [
    "One more useful thing might be to get the region the smoke data is for. It looks like anything with `40` is a federal burn and all of the regions have a two character prefix (i.e. `PC`, `NE`)"
   ]
  },
  {
   "cell_type": "code",
   "execution_count": 5,
   "metadata": {},
   "outputs": [],
   "source": [
    "def region_getter(x):\n",
    "    y = x[:2]\n",
    "    # Federal, Fish & Wildlife, and JBLM\n",
    "    if y in ['40', 'FW', 'JB']:\n",
    "        return 'FED'\n",
    "    # Northeast bad entry\n",
    "    elif y in ['NO', '20']:\n",
    "        return 'NE'\n",
    "    # Southeast bad entry\n",
    "    elif y in ['SO', 'WA']:\n",
    "        return 'SE'\n",
    "    else:\n",
    "        return y\n",
    "    \n",
    "df['Region'] = df['Permit Number'].apply(region_getter)"
   ]
  },
  {
   "cell_type": "markdown",
   "metadata": {},
   "source": [
    "Plot the frequency of burn permits by region/fed"
   ]
  },
  {
   "cell_type": "code",
   "execution_count": 115,
   "metadata": {},
   "outputs": [],
   "source": [
    "#df.groupby(['Region'])['Region'].hist()"
   ]
  },
  {
   "cell_type": "markdown",
   "metadata": {},
   "source": [
    "Plot frequency of burn requests by year and then by month\n"
   ]
  },
  {
   "cell_type": "code",
   "execution_count": 10,
   "metadata": {},
   "outputs": [
    {
     "data": {
      "text/plain": [
       "Request Year\n",
       "2014    AxesSubplot(0.125,0.125;0.775x0.755)\n",
       "2015    AxesSubplot(0.125,0.125;0.775x0.755)\n",
       "2016    AxesSubplot(0.125,0.125;0.775x0.755)\n",
       "2017    AxesSubplot(0.125,0.125;0.775x0.755)\n",
       "2018    AxesSubplot(0.125,0.125;0.775x0.755)\n",
       "2019    AxesSubplot(0.125,0.125;0.775x0.755)\n",
       "2020    AxesSubplot(0.125,0.125;0.775x0.755)\n",
       "Name: Request Year, dtype: object"
      ]
     },
     "execution_count": 10,
     "metadata": {},
     "output_type": "execute_result"
    },
    {
     "data": {
      "image/png": "[encoded data removed]",
      "text/plain": [
       "<Figure size 432x288 with 1 Axes>"
      ]
     },
     "metadata": {},
     "output_type": "display_data"
    }
   ],
   "source": [
    "df.groupby(['Request Year'])['Request Year'].hist()"
   ]
  },
  {
   "cell_type": "code",
   "execution_count": 11,
   "metadata": {},
   "outputs": [
    {
     "data": {
      "text/plain": [
       "Request Month\n",
       "1     AxesSubplot(0.125,0.125;0.775x0.755)\n",
       "2     AxesSubplot(0.125,0.125;0.775x0.755)\n",
       "3     AxesSubplot(0.125,0.125;0.775x0.755)\n",
       "4     AxesSubplot(0.125,0.125;0.775x0.755)\n",
       "5     AxesSubplot(0.125,0.125;0.775x0.755)\n",
       "6     AxesSubplot(0.125,0.125;0.775x0.755)\n",
       "7     AxesSubplot(0.125,0.125;0.775x0.755)\n",
       "8     AxesSubplot(0.125,0.125;0.775x0.755)\n",
       "9     AxesSubplot(0.125,0.125;0.775x0.755)\n",
       "10    AxesSubplot(0.125,0.125;0.775x0.755)\n",
       "11    AxesSubplot(0.125,0.125;0.775x0.755)\n",
       "12    AxesSubplot(0.125,0.125;0.775x0.755)\n",
       "Name: Request Month, dtype: object"
      ]
     },
     "execution_count": 11,
     "metadata": {},
     "output_type": "execute_result"
    },
    {
     "data": {
      "image/png": "[encoded data removed]",
      "text/plain": [
       "<Figure size 432x288 with 1 Axes>"
      ]
     },
     "metadata": {},
     "output_type": "display_data"
    }
   ],
   "source": [
    "df.groupby(['Request Month'])['Request Month'].hist()"
   ]
  },
  {
   "cell_type": "markdown",
   "metadata": {},
   "source": [
    "What is the approval rate?"
   ]
  },
  {
   "cell_type": "code",
   "execution_count": 114,
   "metadata": {},
   "outputs": [],
   "source": [
    "#df.groupby(['Burn Decision'])['Burn Decision'].hist()"
   ]
  },
  {
   "cell_type": "code",
   "execution_count": 13,
   "metadata": {},
   "outputs": [
    {
     "data": {
      "text/plain": [
       "'The burn approval rate is 0.78'"
      ]
     },
     "execution_count": 13,
     "metadata": {},
     "output_type": "execute_result"
    }
   ],
   "source": [
    "total = len(df['Burn Decision'])\n",
    "approvals = len(df[(df['Burn Decision'] =='Approved') | (df['Burn Decision'] == '[Division] Approved')])\n",
    "\n",
    "approval_rate = approvals/total\n",
    "\"The burn approval rate is {}\".format(round(approval_rate, 2))"
   ]
  },
  {
   "cell_type": "markdown",
   "metadata": {},
   "source": [
    "Export to csv"
   ]
  },
  {
   "cell_type": "code",
   "execution_count": 14,
   "metadata": {},
   "outputs": [],
   "source": [
    "df.to_csv('smokedata_2014_2019_clean_test.csv')"
   ]
  },
  {
   "cell_type": "markdown",
   "metadata": {},
   "source": [
    "What is the average request tonnage for those approved? "
   ]
  },
  {
   "cell_type": "code",
   "execution_count": 15,
   "metadata": {},
   "outputs": [
    {
     "data": {
      "text/plain": [
       "139.1609033168666"
      ]
     },
     "execution_count": 15,
     "metadata": {},
     "output_type": "execute_result"
    }
   ],
   "source": [
    "approvals = df[(df['Burn Decision'] =='Approved') | (df['Burn Decision'] == '[Division] Approved')]\n",
    "approvals['Total Proposed Burn'].mean()"
   ]
  },
  {
   "cell_type": "markdown",
   "metadata": {},
   "source": [
    "What is the average burn period? "
   ]
  },
  {
   "cell_type": "code",
   "execution_count": 16,
   "metadata": {},
   "outputs": [
    {
     "data": {
      "text/plain": [
       "86.7356279751007"
      ]
     },
     "execution_count": 16,
     "metadata": {},
     "output_type": "execute_result"
    }
   ],
   "source": [
    "df['Ignition Period'].mean()"
   ]
  },
  {
   "cell_type": "markdown",
   "metadata": {},
   "source": [
    "How many burn requests have we had since the start of 2014?"
   ]
  },
  {
   "cell_type": "code",
   "execution_count": 20,
   "metadata": {},
   "outputs": [
    {
     "name": "stdout",
     "output_type": "stream",
     "text": [
      "Number of Burn Requests since the start of 2014:  5462\n"
     ]
    }
   ],
   "source": [
    "print('Number of Burn Requests since the start of 2014: ', len(df['Burn Decision']))"
   ]
  },
  {
   "cell_type": "markdown",
   "metadata": {},
   "source": [
    "Breakdown of Burn Requests by Year"
   ]
  },
  {
   "cell_type": "code",
   "execution_count": 55,
   "metadata": {},
   "outputs": [],
   "source": [
    "df2014 = df[df['Request Year'] == 2014]\n",
    "df2015 = df[df['Request Year'] == 2015]\n",
    "df2016 = df[df['Request Year'] == 2016]\n",
    "df2017 = df[df['Request Year'] == 2017]\n",
    "df2018 = df[df['Request Year'] == 2018]\n",
    "df2019 = df[df['Request Year'] == 2019]\n",
    "df2020 = df[df['Request Year'] == 2020]"
   ]
  },
  {
   "cell_type": "code",
   "execution_count": 57,
   "metadata": {},
   "outputs": [],
   "source": [
    "df2014_approved = df2014[(df2014['Burn Decision'] == 'Approved') | (df2014['Burn Decision'] == '[Division] Approved')]\n",
    "df2015_approved = df2015[(df2015['Burn Decision'] == 'Approved') | (df2015['Burn Decision'] == '[Division] Approved')]\n",
    "df2016_approved = df2016[(df2016['Burn Decision'] == 'Approved') | (df2016['Burn Decision'] == '[Division] Approved')]\n",
    "df2017_approved = df2017[(df2017['Burn Decision'] == 'Approved') | (df2017['Burn Decision'] == '[Division] Approved')]\n",
    "df2018_approved = df2018[(df2018['Burn Decision'] == 'Approved') | (df2018['Burn Decision'] == '[Division] Approved')]\n",
    "df2019_approved = df2019[(df2019['Burn Decision'] == 'Approved') | (df2019['Burn Decision'] == '[Division] Approved')]\n",
    "df2020_approved = df2020[(df2020['Burn Decision'] == 'Approved') | (df2020['Burn Decision'] == '[Division] Approved')]"
   ]
  },
  {
   "cell_type": "code",
   "execution_count": 58,
   "metadata": {},
   "outputs": [],
   "source": [
    "df2014_denied = df2014[df2014['Burn Decision'] == 'Denied']\n",
    "df2015_denied = df2015[df2015['Burn Decision'] == 'Denied']\n",
    "df2016_denied = df2016[df2016['Burn Decision'] == 'Denied']\n",
    "df2017_denied = df2017[df2017['Burn Decision'] == 'Denied']\n",
    "df2018_denied = df2018[df2018['Burn Decision'] == 'Denied']\n",
    "df2019_denied = df2019[df2019['Burn Decision'] == 'Denied']\n",
    "df2020_denied = df2020[df2020['Burn Decision'] == 'Denied']"
   ]
  },
  {
   "cell_type": "code",
   "execution_count": 59,
   "metadata": {},
   "outputs": [],
   "source": [
    "df2014_other = df2014[pd.isna(df2014['Burn Decision']) == True]\n",
    "df2015_other = df2015[pd.isna(df2015['Burn Decision']) == True]\n",
    "df2016_other = df2016[pd.isna(df2016['Burn Decision']) == True]\n",
    "df2017_other = df2017[pd.isna(df2017['Burn Decision']) == True]\n",
    "df2018_other = df2018[pd.isna(df2018['Burn Decision']) == True]\n",
    "df2019_other = df2019[pd.isna(df2019['Burn Decision']) == True]\n",
    "df2020_other = df2020[pd.isna(df2020['Burn Decision']) == True]"
   ]
  },
  {
   "cell_type": "markdown",
   "metadata": {},
   "source": [
    "Show the total yearly burn requests divided up by the burn decision. Did the burn requests decrease in 2018 and 2019?"
   ]
  },
  {
   "cell_type": "code",
   "execution_count": 60,
   "metadata": {},
   "outputs": [
    {
     "name": "stdout",
     "output_type": "stream",
     "text": [
      "2014 Burn Requests:  Approved:  951  Denied:  105  Unspecified:  159  Total:  1215\n",
      "2015 Burn Requests:  Approved:  864  Denied:  53  Unspecified:  316  Total:  1233\n",
      "2016 Burn Requests:  Approved:  733  Denied:  74  Unspecified:  173  Total:  980\n",
      "2017 Burn Requests:  Approved:  327  Denied:  25  Unspecified:  71  Total:  423\n",
      "2018 Burn Requests:  Approved:  533  Denied:  5  Unspecified:  72  Total:  610\n",
      "2019 Burn Requests:  Approved:  832  Denied:  63  Unspecified:  95  Total:  990\n",
      "2020 Burn Requests:  Approved:  11  Denied:  0  Unspecified:  0  Total:  11\n"
     ]
    }
   ],
   "source": [
    "print('2014 Burn Requests: ', 'Approved: ', len(df2014_approved), ' Denied: ', len(df2014_denied), ' Unspecified: ', len(df2014_other), ' Total: ', len(df2014))\n",
    "print('2015 Burn Requests: ', 'Approved: ', len(df2015_approved), ' Denied: ', len(df2015_denied), ' Unspecified: ', len(df2015_other), ' Total: ', len(df2015))\n",
    "print('2016 Burn Requests: ', 'Approved: ', len(df2016_approved), ' Denied: ', len(df2016_denied), ' Unspecified: ', len(df2016_other), ' Total: ', len(df2016))\n",
    "print('2017 Burn Requests: ', 'Approved: ', len(df2017_approved), ' Denied: ', len(df2017_denied), ' Unspecified: ', len(df2017_other), ' Total: ', len(df2017))\n",
    "print('2018 Burn Requests: ', 'Approved: ', len(df2018_approved), ' Denied: ', len(df2018_denied), ' Unspecified: ', len(df2018_other), ' Total: ', len(df2018))\n",
    "print('2019 Burn Requests: ', 'Approved: ', len(df2019_approved), ' Denied: ', len(df2019_denied), ' Unspecified: ', len(df2019_other), ' Total: ', len(df2019))\n",
    "print('2020 Burn Requests: ', 'Approved: ', len(df2020_approved), ' Denied: ', len(df2020_denied), ' Unspecified: ', len(df2020_other), ' Total: ', len(df2020))\n",
    "\n"
   ]
  },
  {
   "cell_type": "markdown",
   "metadata": {},
   "source": [
    "2018 & 2019 were lower than previous years, but not as low as 2017."
   ]
  },
  {
   "cell_type": "markdown",
   "metadata": {},
   "source": [
    "In 2017, is there any indication the Bureau of Indian Affairs (BIA) burns were reported in the dataset?"
   ]
  },
  {
   "cell_type": "markdown",
   "metadata": {},
   "source": [
    "Export the 2017 data to a csv"
   ]
  },
  {
   "cell_type": "code",
   "execution_count": 61,
   "metadata": {},
   "outputs": [],
   "source": [
    "df2017.to_csv('smokedata_2017_clean.csv')"
   ]
  },
  {
   "cell_type": "markdown",
   "metadata": {},
   "source": [
    "Search for BIA terms in various columns of the dataset"
   ]
  },
  {
   "cell_type": "code",
   "execution_count": 109,
   "metadata": {},
   "outputs": [
    {
     "name": "stdout",
     "output_type": "stream",
     "text": [
      "Enter a search term: Indian\n",
      "Word is not found\n"
     ]
    }
   ],
   "source": [
    "word_search = []\n",
    "with open(\"smokedata_2017_clean.csv\") as csvfile:\n",
    "    reader = csv.reader(csvfile)\n",
    "    for row in reader:\n",
    "        word_search.append(row)\n",
    "        \n",
    "name = input(\"Enter a search term: \")\n",
    "\n",
    "#column 13 is the Landowner of the Burn Request\n",
    "#column 1 is the Agent of the Burn Request\n",
    "#column 26 is the Unit Name\n",
    "col = [x[13] for x in word_search]\n",
    "\n",
    "if name in col:\n",
    "    for x in range(0,len(word_search)):\n",
    "        if name == word_search[x][13]:\n",
    "            print(word_search[x])\n",
    "else:\n",
    "    print(\"Word is not found\")"
   ]
  },
  {
   "cell_type": "markdown",
   "metadata": {},
   "source": [
    "Search for BIA terms in the dataset for all 5 years."
   ]
  },
  {
   "cell_type": "code",
   "execution_count": 111,
   "metadata": {},
   "outputs": [
    {
     "name": "stdout",
     "output_type": "stream",
     "text": [
      "Enter a search term: Tribe\n",
      "Word is not found\n"
     ]
    }
   ],
   "source": [
    "word_search = []\n",
    "with open(\"smokedata_2014_2019_clean.csv\") as csvfile:\n",
    "    reader = csv.reader(csvfile)\n",
    "    for row in reader:\n",
    "        word_search.append(row)\n",
    "        \n",
    "name = input(\"Enter a search term: \")\n",
    "\n",
    "#column 11 is the Landowner of the Burn Request\n",
    "#column 1 is the Agent\n",
    "#column 19 is the Unit Name\n",
    "col = [x[11] for x in word_search]\n",
    "\n",
    "if name in col:\n",
    "    for x in range(0,len(word_search)):\n",
    "        if name == word_search[x][11]:\n",
    "            print(word_search[x])\n",
    "else:\n",
    "    print(\"Word is not found\")"
   ]
  },
  {
   "cell_type": "markdown",
   "metadata": {},
   "source": [
    "After searching terms such as Bureau of Indian Affairs, BIA, Tribe, etc., no rows were found with terms such as these in the 2017 data."
   ]
  },
  {
   "cell_type": "code",
   "execution_count": null,
   "metadata": {},
   "outputs": [],
   "source": []
  }
 ],
 "metadata": {
  "kernelspec": {
   "display_name": "Python 3",
   "language": "python",
   "name": "python3"
  },
  "language_info": {
   "codemirror_mode": {
    "name": "ipython",
    "version": 3
   },
   "file_extension": ".py",
   "mimetype": "text/x-python",
   "name": "python",
   "nbconvert_exporter": "python",
   "pygments_lexer": "ipython3",
   "version": "3.6.5"
  }
 },
 "nbformat": 4,
 "nbformat_minor": 2
}
