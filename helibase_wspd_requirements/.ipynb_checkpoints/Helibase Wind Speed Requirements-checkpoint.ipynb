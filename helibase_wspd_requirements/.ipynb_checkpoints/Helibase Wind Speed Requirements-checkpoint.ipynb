{
 "cells": [
  {
   "cell_type": "markdown",
   "metadata": {},
   "source": [
    "# Helibase Wind Speed Requirements\n",
    "\n",
    "This just looks at average wind speeds over the last 10 years at KELN, KYKM, and Turnbull to determine where to relocate the KELN helibase. Results led to moving helibase to Yakima to avoid the high winds in Ellensburg that may ground aviation."
   ]
  },
  {
   "cell_type": "markdown",
   "metadata": {},
   "source": [
    "Import helpful libraries"
   ]
  },
  {
   "cell_type": "code",
   "execution_count": 1,
   "metadata": {},
   "outputs": [],
   "source": [
    "import requests\n",
    "import os\n",
    "import numpy as np"
   ]
  },
  {
   "cell_type": "markdown",
   "metadata": {},
   "source": [
    "API token and root url"
   ]
  },
  {
   "cell_type": "code",
   "execution_count": 2,
   "metadata": {},
   "outputs": [],
   "source": [
    "API_TOKEN = '6313d938ff624a018efc9af9c7a70e10'\n",
    "API_ROOT = \"https://api.synopticdata.com/v2/\""
   ]
  },
  {
   "cell_type": "markdown",
   "metadata": {},
   "source": [
    "Since we only want summer observations and there is a station hour limit on API requests, make 10 calls to API, one for each year. Append these wind speeds and gusts to a continuous list for each station."
   ]
  },
  {
   "cell_type": "code",
   "execution_count": 3,
   "metadata": {},
   "outputs": [],
   "source": [
    "wind_dict = {\n",
    "    'KYKM_wspd': [],\n",
    "    'KELN_wspd': [],\n",
    "    'TBULL_wspd': [],\n",
    "    'KYKM_gust': [],\n",
    "    'KELN_gust': [],\n",
    "    'TBULL_gust': []\n",
    "}\n",
    "\n",
    "for year in range(2009, 2019):  # 10 years\n",
    "    api_arguments = {\"token\": API_TOKEN, \"stids\": \"KELN, KYKM, TBULL\", \"start\": str(year) + \"06010000\", \"end\": \n",
    "                     str(year) + \"10150000\", \"vars\": \"wind_gust,wind_speed\", \"units\": \"english\"}\n",
    "    api_request_url = os.path.join(API_ROOT, \"stations/timeseries\")\n",
    "    req = requests.get(api_request_url, params=api_arguments)\n",
    "    response = req.json()\n",
    "\n",
    "    for STN in response['STATION']:\n",
    "        if STN['STID'] == 'KYKM':\n",
    "            wind_dict['KYKM_wspd'] += STN['OBSERVATIONS']['wind_speed_set_1']\n",
    "            wind_dict['KYKM_gust'] += STN['OBSERVATIONS']['wind_gust_set_1']\n",
    "\n",
    "        if STN['STID'] == 'KELN':\n",
    "            wind_dict['KELN_wspd'] += STN['OBSERVATIONS']['wind_speed_set_1']\n",
    "            wind_dict['KELN_gust'] += STN['OBSERVATIONS']['wind_gust_set_1']\n",
    "\n",
    "        if STN['STID'] == 'TBULL':\n",
    "            wind_dict['TBULL_wspd'] += STN['OBSERVATIONS']['wind_speed_set_1']\n",
    "            wind_dict['TBULL_gust'] += STN['OBSERVATIONS']['wind_gust_set_1']"
   ]
  },
  {
   "cell_type": "markdown",
   "metadata": {},
   "source": [
    "Now just compute the average wind speed and gusts for each station and see what shakes out"
   ]
  },
  {
   "cell_type": "code",
   "execution_count": 4,
   "metadata": {},
   "outputs": [
    {
     "data": {
      "text/plain": [
       "{'KYKM_wspd': (5.481951495450923, 125514),\n",
       " 'KELN_wspd': (9.64341256178106, 126049),\n",
       " 'TBULL_wspd': (4.355517394662958, 94483),\n",
       " 'KYKM_gust': (21.128676326129703, 4072),\n",
       " 'KELN_gust': (26.1340345485374, 18872),\n",
       " 'TBULL_gust': (8.71663643194965, 94483)}"
      ]
     },
     "execution_count": 4,
     "metadata": {},
     "output_type": "execute_result"
    }
   ],
   "source": [
    "mean_dict = {}\n",
    "\n",
    "for k in wind_dict:\n",
    "    arr = np.asarray(wind_dict[k])\n",
    "    arr_fix = arr[arr != np.array(None)]\n",
    "    mean_dict[k] = (np.mean(arr_fix), len(arr_fix))\n",
    "mean_dict"
   ]
  },
  {
   "cell_type": "markdown",
   "metadata": {},
   "source": [
    "The average wind speed at KYKM is 5.48 mph and gust is 21.13 mph. \n",
    "\n",
    "The average wind speed at KELN is 9.64 mph and gust is 26.13 mph.\n",
    "\n",
    "We could look at this in more detail, but apparently this is enough to justify moving the base for aviation to KYKM."
   ]
  },
  {
   "cell_type": "code",
   "execution_count": null,
   "metadata": {},
   "outputs": [],
   "source": []
  }
 ],
 "metadata": {
  "kernelspec": {
   "display_name": "Python 3.7.5 64-bit",
   "language": "python",
   "name": "python37564bitfede22a82517426f9d362e08cd382ee8"
  },
  "language_info": {
   "codemirror_mode": {
    "name": "ipython",
    "version": 3
   },
   "file_extension": ".py",
   "mimetype": "text/x-python",
   "name": "python",
   "nbconvert_exporter": "python",
   "pygments_lexer": "ipython3",
   "version": "3.7.5"
  }
 },
 "nbformat": 4,
 "nbformat_minor": 2
}
