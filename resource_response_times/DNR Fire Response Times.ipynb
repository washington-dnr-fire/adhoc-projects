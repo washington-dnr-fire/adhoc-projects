{
 "cells": [
  {
   "cell_type": "markdown",
   "metadata": {},
   "source": [
    "# DNR Fire Response Times\n",
    "Within the agency's fire occurrence reporting system (EIRS), data is stored regarding each fire's 'start' datetime and each fire's 'first attack' datetime. The 'start' time is the time the fire was reported to the local dispatch office and keyed into the dispatch system. The 'first attack' time is the time when resources first arrived on scene and engaged the fire. From these two datetimes, we can compute the response time of DNR assets to a wildfire. The median response time could be a useful performance metric for reporting to the Office of Financial Management annually alongside number of fires, burned area, and suppression costs. "
   ]
  },
  {
   "cell_type": "markdown",
   "metadata": {},
   "source": [
    "**1. Import helpful libraries**"
   ]
  },
  {
   "cell_type": "code",
   "execution_count": 1,
   "metadata": {},
   "outputs": [],
   "source": [
    "import pandas as pd\n",
    "import numpy as np\n",
    "import datetime as dt\n",
    "import matplotlib.pyplot as plt"
   ]
  },
  {
   "cell_type": "markdown",
   "metadata": {},
   "source": [
    "**2. Read in dataset from EIRS**"
   ]
  },
  {
   "cell_type": "code",
   "execution_count": 2,
   "metadata": {},
   "outputs": [
    {
     "data": {
      "text/html": [
       "<div>\n",
       "<style scoped>\n",
       "    .dataframe tbody tr th:only-of-type {\n",
       "        vertical-align: middle;\n",
       "    }\n",
       "\n",
       "    .dataframe tbody tr th {\n",
       "        vertical-align: top;\n",
       "    }\n",
       "\n",
       "    .dataframe thead th {\n",
       "        text-align: right;\n",
       "    }\n",
       "</style>\n",
       "<table border=\"1\" class=\"dataframe\">\n",
       "  <thead>\n",
       "    <tr style=\"text-align: right;\">\n",
       "      <th></th>\n",
       "      <th>Incident Name</th>\n",
       "      <th>Incident Number</th>\n",
       "      <th>Classification</th>\n",
       "      <th>Region</th>\n",
       "      <th>County</th>\n",
       "      <th>Final Total Acres</th>\n",
       "      <th>Type of Date</th>\n",
       "      <th>General Cause</th>\n",
       "      <th>Specific Cause</th>\n",
       "      <th>Specific Sub Cause</th>\n",
       "      <th>Date</th>\n",
       "      <th>Time</th>\n",
       "    </tr>\n",
       "  </thead>\n",
       "  <tbody>\n",
       "    <tr>\n",
       "      <th>0</th>\n",
       "      <td>NO BONAPARTE</td>\n",
       "      <td>884</td>\n",
       "      <td>False Alarm</td>\n",
       "      <td>NORTHEAST</td>\n",
       "      <td>Okanogan County</td>\n",
       "      <td>NaN</td>\n",
       "      <td>Started</td>\n",
       "      <td>Undetermined</td>\n",
       "      <td>None</td>\n",
       "      <td>None</td>\n",
       "      <td>06/09/20</td>\n",
       "      <td>15:06</td>\n",
       "    </tr>\n",
       "    <tr>\n",
       "      <th>1</th>\n",
       "      <td>DOMINION TREE</td>\n",
       "      <td>208</td>\n",
       "      <td>Classified</td>\n",
       "      <td>NORTHEAST</td>\n",
       "      <td>Stevens County</td>\n",
       "      <td>0.1</td>\n",
       "      <td>Started</td>\n",
       "      <td>Lightning</td>\n",
       "      <td>None</td>\n",
       "      <td>None</td>\n",
       "      <td>06/08/20</td>\n",
       "      <td>14:25</td>\n",
       "    </tr>\n",
       "  </tbody>\n",
       "</table>\n",
       "</div>"
      ],
      "text/plain": [
       "   Incident Name  Incident Number Classification     Region           County  \\\n",
       "0   NO BONAPARTE              884    False Alarm  NORTHEAST  Okanogan County   \n",
       "1  DOMINION TREE              208     Classified  NORTHEAST   Stevens County   \n",
       "\n",
       "   Final Total Acres Type of Date General Cause Specific Cause  \\\n",
       "0                NaN      Started  Undetermined           None   \n",
       "1                0.1      Started     Lightning           None   \n",
       "\n",
       "  Specific Sub Cause      Date   Time  \n",
       "0               None  06/09/20  15:06  \n",
       "1               None  06/08/20  14:25  "
      ]
     },
     "execution_count": 2,
     "metadata": {},
     "output_type": "execute_result"
    }
   ],
   "source": [
    "fires_df = pd.read_csv('eirs_data.csv')\n",
    "fires_df.head(2)"
   ]
  },
  {
   "cell_type": "markdown",
   "metadata": {},
   "source": [
    "**3. Begin cleaning the data**\n",
    "\n",
    "a. Convert date and time columns to one column containing datetime objects:"
   ]
  },
  {
   "cell_type": "code",
   "execution_count": 3,
   "metadata": {},
   "outputs": [],
   "source": [
    "fires_df['Date'] = pd.to_datetime(fires_df['Date'] + ' ' + fires_df['Time'])"
   ]
  },
  {
   "cell_type": "markdown",
   "metadata": {},
   "source": [
    "b. Only get 2008 to 2019 fires"
   ]
  },
  {
   "cell_type": "code",
   "execution_count": 4,
   "metadata": {},
   "outputs": [
    {
     "data": {
      "text/html": [
       "<div>\n",
       "<style scoped>\n",
       "    .dataframe tbody tr th:only-of-type {\n",
       "        vertical-align: middle;\n",
       "    }\n",
       "\n",
       "    .dataframe tbody tr th {\n",
       "        vertical-align: top;\n",
       "    }\n",
       "\n",
       "    .dataframe thead th {\n",
       "        text-align: right;\n",
       "    }\n",
       "</style>\n",
       "<table border=\"1\" class=\"dataframe\">\n",
       "  <thead>\n",
       "    <tr style=\"text-align: right;\">\n",
       "      <th></th>\n",
       "      <th>Incident Name</th>\n",
       "      <th>Incident Number</th>\n",
       "      <th>Classification</th>\n",
       "      <th>Region</th>\n",
       "      <th>County</th>\n",
       "      <th>Final Total Acres</th>\n",
       "      <th>Type of Date</th>\n",
       "      <th>General Cause</th>\n",
       "      <th>Specific Cause</th>\n",
       "      <th>Specific Sub Cause</th>\n",
       "      <th>Date</th>\n",
       "      <th>Time</th>\n",
       "    </tr>\n",
       "  </thead>\n",
       "  <tbody>\n",
       "    <tr>\n",
       "      <th>753</th>\n",
       "      <td>DAYBOB</td>\n",
       "      <td>54</td>\n",
       "      <td>False Alarm</td>\n",
       "      <td>OLYMPIC</td>\n",
       "      <td>Jefferson County</td>\n",
       "      <td>NaN</td>\n",
       "      <td>Started</td>\n",
       "      <td>Undetermined</td>\n",
       "      <td>None</td>\n",
       "      <td>None</td>\n",
       "      <td>2019-12-04 09:47:00</td>\n",
       "      <td>9:47</td>\n",
       "    </tr>\n",
       "    <tr>\n",
       "      <th>754</th>\n",
       "      <td>TAYLOR MOUNTAIN</td>\n",
       "      <td>150</td>\n",
       "      <td>Classified</td>\n",
       "      <td>SO PUGET</td>\n",
       "      <td>King County</td>\n",
       "      <td>0.1</td>\n",
       "      <td>Started</td>\n",
       "      <td>Recreation</td>\n",
       "      <td>Day Use</td>\n",
       "      <td>Other</td>\n",
       "      <td>2019-11-17 10:45:00</td>\n",
       "      <td>10:45</td>\n",
       "    </tr>\n",
       "  </tbody>\n",
       "</table>\n",
       "</div>"
      ],
      "text/plain": [
       "       Incident Name  Incident Number Classification    Region  \\\n",
       "753           DAYBOB               54    False Alarm   OLYMPIC   \n",
       "754  TAYLOR MOUNTAIN              150     Classified  SO PUGET   \n",
       "\n",
       "               County  Final Total Acres Type of Date General Cause  \\\n",
       "753  Jefferson County                NaN      Started  Undetermined   \n",
       "754       King County                0.1      Started    Recreation   \n",
       "\n",
       "    Specific Cause Specific Sub Cause                Date   Time  \n",
       "753           None               None 2019-12-04 09:47:00   9:47  \n",
       "754        Day Use              Other 2019-11-17 10:45:00  10:45  "
      ]
     },
     "execution_count": 4,
     "metadata": {},
     "output_type": "execute_result"
    }
   ],
   "source": [
    "fires_df = fires_df[(fires_df['Date'].dt.strftime('%Y-%m-%d') >= '2008-01-01') & (fires_df['Date'].dt.strftime('%Y-%m-%d') <= '2019-12-31')]\n",
    "fires_df.head(2)"
   ]
  },
  {
   "cell_type": "markdown",
   "metadata": {},
   "source": [
    "c. Filter and assemble masks of dataframe for date types and classified fires"
   ]
  },
  {
   "cell_type": "code",
   "execution_count": 5,
   "metadata": {},
   "outputs": [],
   "source": [
    "start_records = fires_df[(fires_df['Type of Date'] == 'Started')]\n",
    "attack_records = fires_df[(fires_df['Type of Date'] == 'First Attack')]"
   ]
  },
  {
   "cell_type": "markdown",
   "metadata": {},
   "source": [
    "d. Merge dataframes based on Incident Name and Incident Number"
   ]
  },
  {
   "cell_type": "code",
   "execution_count": 6,
   "metadata": {},
   "outputs": [
    {
     "data": {
      "text/html": [
       "<div>\n",
       "<style scoped>\n",
       "    .dataframe tbody tr th:only-of-type {\n",
       "        vertical-align: middle;\n",
       "    }\n",
       "\n",
       "    .dataframe tbody tr th {\n",
       "        vertical-align: top;\n",
       "    }\n",
       "\n",
       "    .dataframe thead th {\n",
       "        text-align: right;\n",
       "    }\n",
       "</style>\n",
       "<table border=\"1\" class=\"dataframe\">\n",
       "  <thead>\n",
       "    <tr style=\"text-align: right;\">\n",
       "      <th></th>\n",
       "      <th>Incident Name</th>\n",
       "      <th>Incident Number</th>\n",
       "      <th>Classification_x</th>\n",
       "      <th>Region_x</th>\n",
       "      <th>County_x</th>\n",
       "      <th>Final Total Acres_x</th>\n",
       "      <th>Type of Date_x</th>\n",
       "      <th>General Cause_x</th>\n",
       "      <th>Specific Cause_x</th>\n",
       "      <th>Specific Sub Cause_x</th>\n",
       "      <th>...</th>\n",
       "      <th>Classification_y</th>\n",
       "      <th>Region_y</th>\n",
       "      <th>County_y</th>\n",
       "      <th>Final Total Acres_y</th>\n",
       "      <th>Type of Date_y</th>\n",
       "      <th>General Cause_y</th>\n",
       "      <th>Specific Cause_y</th>\n",
       "      <th>Specific Sub Cause_y</th>\n",
       "      <th>Date_y</th>\n",
       "      <th>Time_y</th>\n",
       "    </tr>\n",
       "  </thead>\n",
       "  <tbody>\n",
       "    <tr>\n",
       "      <th>0</th>\n",
       "      <td>TAYLOR MOUNTAIN</td>\n",
       "      <td>150</td>\n",
       "      <td>Classified</td>\n",
       "      <td>SO PUGET</td>\n",
       "      <td>King County</td>\n",
       "      <td>0.1</td>\n",
       "      <td>Started</td>\n",
       "      <td>Recreation</td>\n",
       "      <td>Day Use</td>\n",
       "      <td>Other</td>\n",
       "      <td>...</td>\n",
       "      <td>Classified</td>\n",
       "      <td>SO PUGET</td>\n",
       "      <td>King County</td>\n",
       "      <td>0.1</td>\n",
       "      <td>First Attack</td>\n",
       "      <td>Recreation</td>\n",
       "      <td>Day Use</td>\n",
       "      <td>Other</td>\n",
       "      <td>2019-11-17 14:00:00</td>\n",
       "      <td>14:00</td>\n",
       "    </tr>\n",
       "    <tr>\n",
       "      <th>1</th>\n",
       "      <td>41 VISTA</td>\n",
       "      <td>153</td>\n",
       "      <td>Classified</td>\n",
       "      <td>PACIFIC CASC</td>\n",
       "      <td>Wahkiakum County</td>\n",
       "      <td>0.1</td>\n",
       "      <td>Started</td>\n",
       "      <td>Undetermined</td>\n",
       "      <td>None</td>\n",
       "      <td>None</td>\n",
       "      <td>...</td>\n",
       "      <td>Classified</td>\n",
       "      <td>PACIFIC CASC</td>\n",
       "      <td>Wahkiakum County</td>\n",
       "      <td>0.1</td>\n",
       "      <td>First Attack</td>\n",
       "      <td>Undetermined</td>\n",
       "      <td>None</td>\n",
       "      <td>None</td>\n",
       "      <td>2019-11-16 08:20:00</td>\n",
       "      <td>8:20</td>\n",
       "    </tr>\n",
       "  </tbody>\n",
       "</table>\n",
       "<p>2 rows × 22 columns</p>\n",
       "</div>"
      ],
      "text/plain": [
       "     Incident Name  Incident Number Classification_x      Region_x  \\\n",
       "0  TAYLOR MOUNTAIN              150       Classified      SO PUGET   \n",
       "1         41 VISTA              153       Classified  PACIFIC CASC   \n",
       "\n",
       "           County_x  Final Total Acres_x Type of Date_x General Cause_x  \\\n",
       "0       King County                  0.1        Started      Recreation   \n",
       "1  Wahkiakum County                  0.1        Started    Undetermined   \n",
       "\n",
       "  Specific Cause_x Specific Sub Cause_x  ... Classification_y      Region_y  \\\n",
       "0          Day Use                Other  ...       Classified      SO PUGET   \n",
       "1             None                 None  ...       Classified  PACIFIC CASC   \n",
       "\n",
       "           County_y Final Total Acres_y Type of Date_y  General Cause_y  \\\n",
       "0       King County                 0.1   First Attack       Recreation   \n",
       "1  Wahkiakum County                 0.1   First Attack     Undetermined   \n",
       "\n",
       "  Specific Cause_y Specific Sub Cause_y              Date_y Time_y  \n",
       "0          Day Use                Other 2019-11-17 14:00:00  14:00  \n",
       "1             None                 None 2019-11-16 08:20:00   8:20  \n",
       "\n",
       "[2 rows x 22 columns]"
      ]
     },
     "execution_count": 6,
     "metadata": {},
     "output_type": "execute_result"
    }
   ],
   "source": [
    "df = pd.merge(start_records, attack_records, on=['Incident Name', 'Incident Number'])\n",
    "df.head(2)"
   ]
  },
  {
   "cell_type": "markdown",
   "metadata": {},
   "source": [
    "e. Get rid of extra columns created by merge"
   ]
  },
  {
   "cell_type": "code",
   "execution_count": 7,
   "metadata": {},
   "outputs": [],
   "source": [
    "# Columns were determined to have same values as 'x' dataset or be only slightly different\n",
    "df = df.drop(columns=['Classification_y', 'Region_y', 'County_y', 'Time_x', 'Time_y', 'General Cause_y', \n",
    "                      'Specific Cause_y', 'Specific Sub Cause_y', 'Final Total Acres_y'])"
   ]
  },
  {
   "cell_type": "markdown",
   "metadata": {},
   "source": [
    "f. Filter out errors in reporting where dispatch either flipped the date/times or miskeyed:"
   ]
  },
  {
   "cell_type": "code",
   "execution_count": 8,
   "metadata": {},
   "outputs": [],
   "source": [
    "df = df[df['Date_y'] >= df['Date_x']]"
   ]
  },
  {
   "cell_type": "markdown",
   "metadata": {},
   "source": [
    "**4. Calculate response time**"
   ]
  },
  {
   "cell_type": "code",
   "execution_count": 9,
   "metadata": {},
   "outputs": [],
   "source": [
    "df['response_minutes'] = (df['Date_y'] - df['Date_x']).dt.seconds / 60"
   ]
  },
  {
   "cell_type": "markdown",
   "metadata": {},
   "source": [
    "a. Remove those that have response minutes = 0. Unsure why this could happen, perhaps if resources discovers the fire/responds simultaneously? \n"
   ]
  },
  {
   "cell_type": "code",
   "execution_count": 10,
   "metadata": {},
   "outputs": [
    {
     "data": {
      "text/html": [
       "<div>\n",
       "<style scoped>\n",
       "    .dataframe tbody tr th:only-of-type {\n",
       "        vertical-align: middle;\n",
       "    }\n",
       "\n",
       "    .dataframe tbody tr th {\n",
       "        vertical-align: top;\n",
       "    }\n",
       "\n",
       "    .dataframe thead th {\n",
       "        text-align: right;\n",
       "    }\n",
       "</style>\n",
       "<table border=\"1\" class=\"dataframe\">\n",
       "  <thead>\n",
       "    <tr style=\"text-align: right;\">\n",
       "      <th></th>\n",
       "      <th>Incident Name</th>\n",
       "      <th>Incident Number</th>\n",
       "      <th>Classification_x</th>\n",
       "      <th>Region_x</th>\n",
       "      <th>County_x</th>\n",
       "      <th>Final Total Acres_x</th>\n",
       "      <th>Type of Date_x</th>\n",
       "      <th>General Cause_x</th>\n",
       "      <th>Specific Cause_x</th>\n",
       "      <th>Specific Sub Cause_x</th>\n",
       "      <th>Date_x</th>\n",
       "      <th>Type of Date_y</th>\n",
       "      <th>Date_y</th>\n",
       "      <th>response_minutes</th>\n",
       "    </tr>\n",
       "  </thead>\n",
       "  <tbody>\n",
       "    <tr>\n",
       "      <th>0</th>\n",
       "      <td>TAYLOR MOUNTAIN</td>\n",
       "      <td>150</td>\n",
       "      <td>Classified</td>\n",
       "      <td>SO PUGET</td>\n",
       "      <td>King County</td>\n",
       "      <td>0.1</td>\n",
       "      <td>Started</td>\n",
       "      <td>Recreation</td>\n",
       "      <td>Day Use</td>\n",
       "      <td>Other</td>\n",
       "      <td>2019-11-17 10:45:00</td>\n",
       "      <td>First Attack</td>\n",
       "      <td>2019-11-17 14:00:00</td>\n",
       "      <td>195.0</td>\n",
       "    </tr>\n",
       "    <tr>\n",
       "      <th>1</th>\n",
       "      <td>41 VISTA</td>\n",
       "      <td>153</td>\n",
       "      <td>Classified</td>\n",
       "      <td>PACIFIC CASC</td>\n",
       "      <td>Wahkiakum County</td>\n",
       "      <td>0.1</td>\n",
       "      <td>Started</td>\n",
       "      <td>Undetermined</td>\n",
       "      <td>None</td>\n",
       "      <td>None</td>\n",
       "      <td>2019-11-15 18:00:00</td>\n",
       "      <td>First Attack</td>\n",
       "      <td>2019-11-16 08:20:00</td>\n",
       "      <td>860.0</td>\n",
       "    </tr>\n",
       "  </tbody>\n",
       "</table>\n",
       "</div>"
      ],
      "text/plain": [
       "     Incident Name  Incident Number Classification_x      Region_x  \\\n",
       "0  TAYLOR MOUNTAIN              150       Classified      SO PUGET   \n",
       "1         41 VISTA              153       Classified  PACIFIC CASC   \n",
       "\n",
       "           County_x  Final Total Acres_x Type of Date_x General Cause_x  \\\n",
       "0       King County                  0.1        Started      Recreation   \n",
       "1  Wahkiakum County                  0.1        Started    Undetermined   \n",
       "\n",
       "  Specific Cause_x Specific Sub Cause_x              Date_x Type of Date_y  \\\n",
       "0          Day Use                Other 2019-11-17 10:45:00   First Attack   \n",
       "1             None                 None 2019-11-15 18:00:00   First Attack   \n",
       "\n",
       "               Date_y  response_minutes  \n",
       "0 2019-11-17 14:00:00             195.0  \n",
       "1 2019-11-16 08:20:00             860.0  "
      ]
     },
     "execution_count": 10,
     "metadata": {},
     "output_type": "execute_result"
    }
   ],
   "source": [
    "df = df[df['response_minutes'] > 0]\n",
    "df.head(2)"
   ]
  },
  {
   "cell_type": "markdown",
   "metadata": {},
   "source": [
    "b. Let's add year, month, and day, and then remove those fires which were reported but responded to on the next day. These fires are removed as they result in many outliers since response times would be crazy high. This is likely because wildfires are mostly very unsafe to respond to at night and must wait until the morning to be engaged. "
   ]
  },
  {
   "cell_type": "code",
   "execution_count": 11,
   "metadata": {},
   "outputs": [],
   "source": [
    "df['year'] = df['Date_x'].dt.strftime('%Y')\n",
    "df['month'] = df['Date_x'].dt.strftime('%m')\n",
    "df['day_x'] = df['Date_x'].dt.strftime('%d')\n",
    "df['day_y'] = df['Date_y'].dt.strftime('%d')\n",
    "\n",
    "df1 = df[df['day_x'] == df['day_y']]"
   ]
  },
  {
   "cell_type": "markdown",
   "metadata": {},
   "source": [
    "c. Searching for outliers"
   ]
  },
  {
   "cell_type": "code",
   "execution_count": 12,
   "metadata": {},
   "outputs": [
    {
     "data": {
      "text/plain": [
       "<matplotlib.axes._subplots.AxesSubplot at 0x11d48d390>"
      ]
     },
     "execution_count": 12,
     "metadata": {},
     "output_type": "execute_result"
    },
    {
     "data": {
      "image/png": "[encoded data removed]",
      "text/plain": [
       "<Figure size 432x288 with 1 Axes>"
      ]
     },
     "metadata": {
      "needs_background": "light"
     },
     "output_type": "display_data"
    }
   ],
   "source": [
    "df1['response_minutes'].hist(bins=50)"
   ]
  },
  {
   "cell_type": "code",
   "execution_count": 13,
   "metadata": {},
   "outputs": [
    {
     "data": {
      "text/plain": [
       "84.14942528735632"
      ]
     },
     "execution_count": 13,
     "metadata": {},
     "output_type": "execute_result"
    }
   ],
   "source": [
    "df1['response_minutes'].mean()"
   ]
  },
  {
   "cell_type": "markdown",
   "metadata": {},
   "source": [
    "d. Response times are heavily right-tailed. Let's remove outliers by eliminating records with response times 3 standard deviations from mean"
   ]
  },
  {
   "cell_type": "code",
   "execution_count": 14,
   "metadata": {},
   "outputs": [],
   "source": [
    "df1 = df1[((df1['response_minutes'] - df1['response_minutes'].mean()) / df1['response_minutes'].std()).abs() < 3]"
   ]
  },
  {
   "cell_type": "code",
   "execution_count": 15,
   "metadata": {},
   "outputs": [
    {
     "data": {
      "text/plain": [
       "<matplotlib.axes._subplots.AxesSubplot at 0x11c807a10>"
      ]
     },
     "execution_count": 15,
     "metadata": {},
     "output_type": "execute_result"
    },
    {
     "data": {
      "image/png": "[encoded data removed]",
      "text/plain": [
       "<Figure size 432x288 with 1 Axes>"
      ]
     },
     "metadata": {
      "needs_background": "light"
     },
     "output_type": "display_data"
    }
   ],
   "source": [
    "df1['response_minutes'].hist(bins=50)"
   ]
  },
  {
   "cell_type": "code",
   "execution_count": 16,
   "metadata": {},
   "outputs": [
    {
     "data": {
      "text/plain": [
       "67.4924252068746"
      ]
     },
     "execution_count": 16,
     "metadata": {},
     "output_type": "execute_result"
    }
   ],
   "source": [
    "df1['response_minutes'].mean()"
   ]
  },
  {
   "cell_type": "markdown",
   "metadata": {},
   "source": [
    "e. Much better, now examining data by regions, years, etc. "
   ]
  },
  {
   "cell_type": "markdown",
   "metadata": {},
   "source": [
    "What is the median response time by region over the period?"
   ]
  },
  {
   "cell_type": "code",
   "execution_count": 17,
   "metadata": {},
   "outputs": [
    {
     "data": {
      "text/plain": [
       "<matplotlib.axes._subplots.AxesSubplot at 0x11ca5d850>"
      ]
     },
     "execution_count": 17,
     "metadata": {},
     "output_type": "execute_result"
    },
    {
     "data": {
      "image/png": "[encoded data removed]",
      "text/plain": [
       "<Figure size 432x288 with 1 Axes>"
      ]
     },
     "metadata": {
      "needs_background": "light"
     },
     "output_type": "display_data"
    }
   ],
   "source": [
    "df1.groupby(['Region_x'])['response_minutes'].median().plot.barh()"
   ]
  },
  {
   "cell_type": "markdown",
   "metadata": {},
   "source": [
    "What is the median response time across all regions over each year?"
   ]
  },
  {
   "cell_type": "code",
   "execution_count": 18,
   "metadata": {},
   "outputs": [
    {
     "data": {
      "text/plain": [
       "<matplotlib.axes._subplots.AxesSubplot at 0x11cb470d0>"
      ]
     },
     "execution_count": 18,
     "metadata": {},
     "output_type": "execute_result"
    },
    {
     "data": {
      "image/png": "[encoded data removed]",
      "text/plain": [
       "<Figure size 432x288 with 1 Axes>"
      ]
     },
     "metadata": {
      "needs_background": "light"
     },
     "output_type": "display_data"
    }
   ],
   "source": [
    "df1.groupby(['year'])['response_minutes'].median().plot.barh()"
   ]
  },
  {
   "cell_type": "markdown",
   "metadata": {},
   "source": [
    "What is the median response time by fire cause?\n",
    "Interesting that lightning fires have such a high response time, likely because they occur moreso in complex/inaccessible terrain..."
   ]
  },
  {
   "cell_type": "code",
   "execution_count": 19,
   "metadata": {},
   "outputs": [
    {
     "data": {
      "text/plain": [
       "<matplotlib.axes._subplots.AxesSubplot at 0x11cc39d10>"
      ]
     },
     "execution_count": 19,
     "metadata": {},
     "output_type": "execute_result"
    },
    {
     "data": {
      "image/png": "[encoded data removed]",
      "text/plain": [
       "<Figure size 432x288 with 1 Axes>"
      ]
     },
     "metadata": {
      "needs_background": "light"
     },
     "output_type": "display_data"
    }
   ],
   "source": [
    "df1.groupby(['General Cause_x'])['response_minutes'].median().plot.barh()"
   ]
  },
  {
   "cell_type": "markdown",
   "metadata": {},
   "source": [
    "What is the median response time by month?"
   ]
  },
  {
   "cell_type": "code",
   "execution_count": 20,
   "metadata": {},
   "outputs": [
    {
     "data": {
      "text/plain": [
       "<matplotlib.axes._subplots.AxesSubplot at 0x11cd3f0d0>"
      ]
     },
     "execution_count": 20,
     "metadata": {},
     "output_type": "execute_result"
    },
    {
     "data": {
      "image/png": "[encoded data removed]",
      "text/plain": [
       "<Figure size 432x288 with 1 Axes>"
      ]
     },
     "metadata": {
      "needs_background": "light"
     },
     "output_type": "display_data"
    }
   ],
   "source": [
    "df1.groupby(['month'])['response_minutes'].median().plot.bar()"
   ]
  },
  {
   "cell_type": "markdown",
   "metadata": {},
   "source": [
    "What is the response time by county in Pacific Cascade Region?"
   ]
  },
  {
   "cell_type": "code",
   "execution_count": 21,
   "metadata": {},
   "outputs": [
    {
     "data": {
      "text/plain": [
       "<matplotlib.axes._subplots.AxesSubplot at 0x11ce43490>"
      ]
     },
     "execution_count": 21,
     "metadata": {},
     "output_type": "execute_result"
    },
    {
     "data": {
      "image/png": "[encoded data removed]",
      "text/plain": [
       "<Figure size 432x288 with 1 Axes>"
      ]
     },
     "metadata": {
      "needs_background": "light"
     },
     "output_type": "display_data"
    }
   ],
   "source": [
    "df_pcs = df1[df1['Region_x'] == 'PACIFIC CASC']\n",
    "df_pcs.groupby(['County_x'])['response_minutes'].median().plot.barh()"
   ]
  },
  {
   "cell_type": "code",
   "execution_count": 22,
   "metadata": {},
   "outputs": [
    {
     "data": {
      "text/plain": [
       "<matplotlib.axes._subplots.AxesSubplot at 0x11cf53990>"
      ]
     },
     "execution_count": 22,
     "metadata": {},
     "output_type": "execute_result"
    },
    {
     "data": {
      "image/png": "[encoded data removed]",
      "text/plain": [
       "<Figure size 432x288 with 1 Axes>"
      ]
     },
     "metadata": {
      "needs_background": "light"
     },
     "output_type": "display_data"
    }
   ],
   "source": [
    "df_pcs['response_minutes'].hist(bins=50)"
   ]
  },
  {
   "cell_type": "markdown",
   "metadata": {},
   "source": [
    "What is the bottom line here? "
   ]
  },
  {
   "cell_type": "code",
   "execution_count": 23,
   "metadata": {},
   "outputs": [
    {
     "name": "stdout",
     "output_type": "stream",
     "text": [
      "The median response time for DNR varies from 30.0 min in SPS Region to 49.0 min in NES Region\n"
     ]
    }
   ],
   "source": [
    "print('The median response time for DNR varies from {} min in SPS Region to {} min in NES Region'.format(\n",
    "    min(df1.groupby(['Region_x'])['response_minutes'].median()), \n",
    "    max(df1.groupby(['Region_x'])['response_minutes'].median())))"
   ]
  },
  {
   "cell_type": "markdown",
   "metadata": {},
   "source": [
    "Response times for lightning are much higher than all other causes, and response times are highest during the months of April, November, and December, likely due to dead, fine fuels and a lack of seasonal resources to respond. "
   ]
  },
  {
   "cell_type": "code",
   "execution_count": null,
   "metadata": {},
   "outputs": [],
   "source": []
  }
 ],
 "metadata": {
  "kernelspec": {
   "display_name": "Python 3.7.5 64-bit",
   "language": "python",
   "name": "python37564bitfede22a82517426f9d362e08cd382ee8"
  },
  "language_info": {
   "codemirror_mode": {
    "name": "ipython",
    "version": 3
   },
   "file_extension": ".py",
   "mimetype": "text/x-python",
   "name": "python",
   "nbconvert_exporter": "python",
   "pygments_lexer": "ipython3",
   "version": "3.7.5"
  }
 },
 "nbformat": 4,
 "nbformat_minor": 2
}
